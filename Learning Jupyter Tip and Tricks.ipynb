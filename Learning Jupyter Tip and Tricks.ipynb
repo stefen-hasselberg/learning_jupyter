{
 "cells": [
  {
   "cell_type": "markdown",
   "id": "1265fc8e",
   "metadata": {},
   "source": [
    "# Learning Jupyter \n",
    "### Tips and Tricks"
   ]
  },
  {
   "cell_type": "code",
   "execution_count": 2,
   "id": "eb5dc512",
   "metadata": {},
   "outputs": [
    {
     "name": "stdout",
     "output_type": "stream",
     "text": [
      "testing shift enter\n"
     ]
    }
   ],
   "source": [
    "print(\"testing shift enter\")"
   ]
  },
  {
   "cell_type": "code",
   "execution_count": 5,
   "id": "2f1da515",
   "metadata": {},
   "outputs": [
    {
     "name": "stdout",
     "output_type": "stream",
     "text": [
      "testing alt + enter\n"
     ]
    }
   ],
   "source": [
    "print(\"testing alt + enter\")"
   ]
  },
  {
   "cell_type": "code",
   "execution_count": null,
   "id": "3d0d7ba4",
   "metadata": {},
   "outputs": [],
   "source": []
  },
  {
   "cell_type": "markdown",
   "id": "280f4474",
   "metadata": {},
   "source": [
    "press \"A\" to create a new cell above the current active cell"
   ]
  },
  {
   "cell_type": "code",
   "execution_count": 3,
   "id": "882006fd",
   "metadata": {},
   "outputs": [
    {
     "name": "stdout",
     "output_type": "stream",
     "text": [
      "testing ctrl enter\n"
     ]
    }
   ],
   "source": [
    "print(\"testing ctrl enter\")"
   ]
  },
  {
   "cell_type": "markdown",
   "id": "304ddf76",
   "metadata": {},
   "source": [
    "to command a line out in a Code cell using CTRL + /"
   ]
  },
  {
   "cell_type": "code",
   "execution_count": 8,
   "id": "5ed3cf04",
   "metadata": {},
   "outputs": [],
   "source": [
    "import numpy as np"
   ]
  },
  {
   "cell_type": "code",
   "execution_count": 14,
   "id": "50b1582e",
   "metadata": {},
   "outputs": [],
   "source": [
    "test = np.arange(1, 10)"
   ]
  },
  {
   "cell_type": "code",
   "execution_count": 16,
   "id": "77672428",
   "metadata": {},
   "outputs": [
    {
     "data": {
      "text/plain": [
       "array([1, 2, 3, 4, 5, 6, 7, 8, 9])"
      ]
     },
     "execution_count": 16,
     "metadata": {},
     "output_type": "execute_result"
    }
   ],
   "source": [
    "test"
   ]
  }
 ],
 "metadata": {
  "kernelspec": {
   "display_name": "Python 3 (ipykernel)",
   "language": "python",
   "name": "python3"
  },
  "language_info": {
   "codemirror_mode": {
    "name": "ipython",
    "version": 3
   },
   "file_extension": ".py",
   "mimetype": "text/x-python",
   "name": "python",
   "nbconvert_exporter": "python",
   "pygments_lexer": "ipython3",
   "version": "3.10.8"
  }
 },
 "nbformat": 4,
 "nbformat_minor": 5
}
